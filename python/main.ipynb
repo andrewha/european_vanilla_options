{
 "cells": [
  {
   "cell_type": "markdown",
   "metadata": {},
   "source": [
    "##### European Vanilla Options Price Calculator"
   ]
  },
  {
   "cell_type": "code",
   "execution_count": 1,
   "metadata": {},
   "outputs": [],
   "source": [
    "from eur_van_opt import EuropeanVanillaOption"
   ]
  },
  {
   "cell_type": "markdown",
   "metadata": {},
   "source": [
    "Create a default option with parameters: K = \\$100.00, r = 5%, T = 1 year, S = \\$100.00, sigma = 20%"
   ]
  },
  {
   "cell_type": "code",
   "execution_count": 2,
   "metadata": {},
   "outputs": [
    {
     "name": "stdout",
     "output_type": "stream",
     "text": [
      "Call price: $10.45\n",
      "Put  price: $ 5.57\n"
     ]
    }
   ],
   "source": [
    "default_option = EuropeanVanillaOption()\n",
    "print(f'Call price: ${default_option.call_price():>5.2f}')\n",
    "print(f'Put  price: ${default_option.put_price():>5.2f}')"
   ]
  },
  {
   "cell_type": "markdown",
   "metadata": {},
   "source": [
    "Create a non-default option with user-defined parameters: K = \\$1,000.00, r = 2.5%, T = 2 years, S = \\$1,000.00, sigma = 10%  "
   ]
  },
  {
   "cell_type": "code",
   "execution_count": 3,
   "metadata": {},
   "outputs": [
    {
     "name": "stdout",
     "output_type": "stream",
     "text": [
      "Call price: $82.78\n",
      "Put  price: $34.01\n"
     ]
    }
   ],
   "source": [
    "non_default_option = EuropeanVanillaOption(1000.0, 0.025, 2.0, 1000.0, 0.1)\n",
    "print(f'Call price: ${non_default_option.call_price():>5.2f}')\n",
    "print(f'Put  price: ${non_default_option.put_price():>5.2f}')"
   ]
  },
  {
   "cell_type": "code",
   "execution_count": null,
   "metadata": {},
   "outputs": [],
   "source": []
  }
 ],
 "metadata": {
  "kernelspec": {
   "display_name": "base",
   "language": "python",
   "name": "python3"
  },
  "language_info": {
   "codemirror_mode": {
    "name": "ipython",
    "version": 3
   },
   "file_extension": ".py",
   "mimetype": "text/x-python",
   "name": "python",
   "nbconvert_exporter": "python",
   "pygments_lexer": "ipython3",
   "version": "3.10.14"
  }
 },
 "nbformat": 4,
 "nbformat_minor": 2
}
